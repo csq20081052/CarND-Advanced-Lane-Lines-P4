{
 "cells": [
  {
   "cell_type": "code",
   "execution_count": 1,
   "metadata": {
    "collapsed": false
   },
   "outputs": [],
   "source": [
    "import full_pipeline as fp\n",
    "from moviepy.editor import VideoFileClip\n",
    "from IPython.display import HTML"
   ]
  },
  {
   "cell_type": "code",
   "execution_count": 2,
   "metadata": {
    "collapsed": true
   },
   "outputs": [],
   "source": [
    "path2input_video = \"project_video.mp4\"\n",
    "\n",
    "name, extension = path2input_video.split(\".\")\n",
    "path2output_video = name + \"_processed9\" + \".\" + extension"
   ]
  },
  {
   "cell_type": "code",
   "execution_count": 3,
   "metadata": {
    "collapsed": false
   },
   "outputs": [],
   "source": [
    "camera_calibration, perspective_matrix, meters_per_pix = fp.load_parameters()"
   ]
  },
  {
   "cell_type": "code",
   "execution_count": 4,
   "metadata": {
    "collapsed": false
   },
   "outputs": [],
   "source": [
    "birds_eye_buffer = []\n",
    "ind = 0\n",
    "buffer_size = 4 # 20 if using AND when combining color and gradient thresholds in combine_color_gradient_postpro()"
   ]
  },
  {
   "cell_type": "code",
   "execution_count": 5,
   "metadata": {
    "collapsed": false
   },
   "outputs": [],
   "source": [
    "def decorated_pipeline(image):\n",
    "    global birds_eye_buffer, ind, buffer_size \n",
    "    \n",
    "    result, previous_birds_eye = fp.pipeline(image, camera_calibration, perspective_matrix, \\\n",
    "                                          meters_per_pix, birds_eye_buffer, ret_control_panel=True)\n",
    "    \n",
    "    if len(birds_eye_buffer) < buffer_size:\n",
    "        birds_eye_buffer.append(previous_birds_eye)\n",
    "    else:\n",
    "        birds_eye_buffer[ind] = previous_birds_eye\n",
    "        \n",
    "    ind = (ind + 1) % buffer_size\n",
    "\n",
    "    return result"
   ]
  },
  {
   "cell_type": "code",
   "execution_count": 6,
   "metadata": {
    "collapsed": false,
    "scrolled": true
   },
   "outputs": [
    {
     "name": "stdout",
     "output_type": "stream",
     "text": [
      "[MoviePy] >>>> Building video project_video_processed9_bis.mp4\n",
      "[MoviePy] Writing video project_video_processed9_bis.mp4\n"
     ]
    },
    {
     "name": "stderr",
     "output_type": "stream",
     "text": [
      "100%|█████████▉| 1260/1261 [09:54<00:00,  2.14it/s]\n"
     ]
    },
    {
     "name": "stdout",
     "output_type": "stream",
     "text": [
      "[MoviePy] Done.\n",
      "[MoviePy] >>>> Video ready: project_video_processed9_bis.mp4 \n",
      "\n"
     ]
    }
   ],
   "source": [
    "clip = VideoFileClip(path2input_video)\n",
    "processed = clip.fl_image(decorated_pipeline) # It is lazy-evaluated. It does not do anything until write_videofile is called\n",
    "processed.write_videofile(path2output_video, audio=False, threads=2)"
   ]
  },
  {
   "cell_type": "code",
   "execution_count": 7,
   "metadata": {
    "collapsed": false,
    "scrolled": false
   },
   "outputs": [
    {
     "data": {
      "text/html": [
       "\n",
       "<video width=\"960\" height=\"540\" controls>\n",
       "  <source src=\"project_video_processed9_bis.mp4\">\n",
       "</video>\n"
      ],
      "text/plain": [
       "<IPython.core.display.HTML object>"
      ]
     },
     "execution_count": 7,
     "metadata": {},
     "output_type": "execute_result"
    }
   ],
   "source": [
    "HTML(\"\"\"\n",
    "<video width=\"960\" height=\"540\" controls>\n",
    "  <source src=\"{0}\">\n",
    "</video>\n",
    "\"\"\".format(path2output_video))"
   ]
  }
 ],
 "metadata": {
  "anaconda-cloud": {},
  "kernelspec": {
   "display_name": "Python [conda env:CarND-TensorFlow-Lab]",
   "language": "python",
   "name": "conda-env-CarND-TensorFlow-Lab-py"
  },
  "language_info": {
   "codemirror_mode": {
    "name": "ipython",
    "version": 3
   },
   "file_extension": ".py",
   "mimetype": "text/x-python",
   "name": "python",
   "nbconvert_exporter": "python",
   "pygments_lexer": "ipython3",
   "version": "3.5.2"
  }
 },
 "nbformat": 4,
 "nbformat_minor": 1
}
